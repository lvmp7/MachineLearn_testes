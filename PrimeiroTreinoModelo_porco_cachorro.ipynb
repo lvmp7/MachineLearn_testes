{
  "nbformat": 4,
  "nbformat_minor": 0,
  "metadata": {
    "colab": {
      "provenance": [],
      "authorship_tag": "ABX9TyNve3Z91MVlHmQMp+xlQcfH",
      "include_colab_link": true
    },
    "kernelspec": {
      "name": "python3",
      "display_name": "Python 3"
    },
    "language_info": {
      "name": "python"
    }
  },
  "cells": [
    {
      "cell_type": "markdown",
      "metadata": {
        "id": "view-in-github",
        "colab_type": "text"
      },
      "source": [
        "<a href=\"https://colab.research.google.com/github/lvmp7/MachineLearn_testes/blob/main/PrimeiroTreinoModelo_porco_cachorro.ipynb\" target=\"_parent\"><img src=\"https://colab.research.google.com/assets/colab-badge.svg\" alt=\"Open In Colab\"/></a>"
      ]
    },
    {
      "cell_type": "code",
      "execution_count": null,
      "metadata": {
        "id": "2HGxu0O5eq8C"
      },
      "outputs": [],
      "source": [
        "#features (1 sim , 0 nao)\n",
        "#pelo longo?\n",
        "#perna curta?\n",
        "#faz auau?\n",
        "porco1 = [0,1,0]\n",
        "porco2 = [0,1,1]\n",
        "porco3 = [1,1,0]\n",
        "\n",
        "cachorro1 = [0,1,1]\n",
        "cachorro2 = [1,0,1]\n",
        "cachorro3 = [1,1,1]\n",
        "\n",
        "#1 => porco , 0=> cachorro\n",
        "treino_x = [porco1,porco2,porco3,cachorro1,cachorro2,cachorro3]\n",
        "treino_y = [1,1,1,0,0,0]\n"
      ]
    },
    {
      "cell_type": "code",
      "source": [
        "from sklearn.svm import LinearSVC\n",
        "\n",
        "model = LinearSVC()\n",
        "model.fit(treino_x,treino_y)\n"
      ],
      "metadata": {
        "colab": {
          "base_uri": "https://localhost:8080/"
        },
        "id": "wbXSCLX0eu50",
        "outputId": "3bb26c85-7090-4ebf-cab6-4171bfef242b"
      },
      "execution_count": null,
      "outputs": [
        {
          "output_type": "execute_result",
          "data": {
            "text/plain": [
              "LinearSVC()"
            ]
          },
          "metadata": {},
          "execution_count": 2
        }
      ]
    },
    {
      "cell_type": "code",
      "source": [
        "animal_misterioso = [1,1,1]\n",
        "model.predict([animal_misterioso])"
      ],
      "metadata": {
        "colab": {
          "base_uri": "https://localhost:8080/"
        },
        "id": "fyHnqhHziZi8",
        "outputId": "ef32495c-f490-491a-d682-c70e6c3b352c"
      },
      "execution_count": null,
      "outputs": [
        {
          "output_type": "execute_result",
          "data": {
            "text/plain": [
              "array([0])"
            ]
          },
          "metadata": {},
          "execution_count": 3
        }
      ]
    },
    {
      "cell_type": "code",
      "source": [
        "misterio1 = [1,1,1]\n",
        "misterio2 = [1,1,0]\n",
        "misterio3 = [0,1,1]\n",
        "\n",
        "teste_x = [misterio1,misterio2,misterio3]\n",
        "teste_y = [0,1,0]\n",
        "\n",
        "previsoes = model.predict(teste_x)\n",
        "\n",
        "corretos = (previsoes == teste_y).sum()\n",
        "total = len(teste_x)\n",
        "taxa_de_acerto = corretos/total\n",
        "\n",
        "print(\"Taxa de acerto: %2f\" % (taxa_de_acerto * 100))"
      ],
      "metadata": {
        "colab": {
          "base_uri": "https://localhost:8080/"
        },
        "id": "Yy3VBqRuiiFz",
        "outputId": "e6c55d5c-91bd-4e6f-de9e-82be68e14c2c"
      },
      "execution_count": null,
      "outputs": [
        {
          "output_type": "stream",
          "name": "stdout",
          "text": [
            "Taxa de acerto: 100.000000\n"
          ]
        }
      ]
    },
    {
      "cell_type": "code",
      "source": [
        "from sklearn.metrics import accuracy_score\n",
        "taxa_de_acerto = accuracy_score(teste_y,previsoes)\n",
        "\n",
        "print(\"Taxa de acerto: %2f\" % (taxa_de_acerto * 100))"
      ],
      "metadata": {
        "colab": {
          "base_uri": "https://localhost:8080/"
        },
        "id": "ixkN9bxjj8HV",
        "outputId": "d1be44a3-769b-410a-cb9a-8a134ab6a389"
      },
      "execution_count": null,
      "outputs": [
        {
          "output_type": "stream",
          "name": "stdout",
          "text": [
            "Taxa de acerto: 100.000000\n"
          ]
        }
      ]
    },
    {
      "cell_type": "code",
      "source": [],
      "metadata": {
        "id": "AxjGFHeulqdG"
      },
      "execution_count": null,
      "outputs": []
    }
  ]
}